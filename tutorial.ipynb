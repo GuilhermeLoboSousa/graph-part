{
 "cells": [
  {
   "cell_type": "markdown",
   "id": "5cb7b7ea-fc0f-45eb-b119-bf436e34b082",
   "metadata": {},
   "source": [
    "# Graph-Part tutorial"
   ]
  },
  {
   "cell_type": "markdown",
   "id": "3385f516-9e7f-4e65-bcf7-092110a29beb",
   "metadata": {},
   "source": [
    "In addition to the command line interface for fasta-formatted data, Graph-Part can also be used from within Python directly."
   ]
  },
  {
   "cell_type": "code",
   "execution_count": 1,
   "id": "6a1287d8-85c2-41ae-a89d-a7f9db22c3c4",
   "metadata": {},
   "outputs": [],
   "source": [
    "import pandas as pd\n",
    "from graph_part import train_test_validation_split, stratified_k_fold"
   ]
  },
  {
   "cell_type": "code",
   "execution_count": 2,
   "id": "6fbab91c-0a13-4852-bb19-dd65da1b4a98",
   "metadata": {},
   "outputs": [
    {
     "data": {
      "text/html": [
       "<div>\n",
       "<style scoped>\n",
       "    .dataframe tbody tr th:only-of-type {\n",
       "        vertical-align: middle;\n",
       "    }\n",
       "\n",
       "    .dataframe tbody tr th {\n",
       "        vertical-align: top;\n",
       "    }\n",
       "\n",
       "    .dataframe thead th {\n",
       "        text-align: right;\n",
       "    }\n",
       "</style>\n",
       "<table border=\"1\" class=\"dataframe\">\n",
       "  <thead>\n",
       "    <tr style=\"text-align: right;\">\n",
       "      <th></th>\n",
       "      <th>kingdom</th>\n",
       "      <th>class</th>\n",
       "      <th>right-pos</th>\n",
       "      <th>left-pos</th>\n",
       "      <th>experimental</th>\n",
       "      <th>sequence</th>\n",
       "    </tr>\n",
       "    <tr>\n",
       "      <th>ID</th>\n",
       "      <th></th>\n",
       "      <th></th>\n",
       "      <th></th>\n",
       "      <th></th>\n",
       "      <th></th>\n",
       "      <th></th>\n",
       "    </tr>\n",
       "  </thead>\n",
       "  <tbody>\n",
       "    <tr>\n",
       "      <th>P15693</th>\n",
       "      <td>Animal</td>\n",
       "      <td>1</td>\n",
       "      <td>30</td>\n",
       "      <td>71</td>\n",
       "      <td>0</td>\n",
       "      <td>QQAAVPLSSETHGGEDVAIFARGPQAHLVHGVQEQNYIAHVMAFAG...</td>\n",
       "    </tr>\n",
       "    <tr>\n",
       "      <th>P83558</th>\n",
       "      <td>Animal</td>\n",
       "      <td>0</td>\n",
       "      <td>0</td>\n",
       "      <td>101</td>\n",
       "      <td>0</td>\n",
       "      <td>EGEVKNEFEERLKDEFKDPSRSEVAEVILLRELEVLEETLFGKEMT...</td>\n",
       "    </tr>\n",
       "    <tr>\n",
       "      <th>D4ASH1</th>\n",
       "      <td>Fungi</td>\n",
       "      <td>0</td>\n",
       "      <td>0</td>\n",
       "      <td>101</td>\n",
       "      <td>0</td>\n",
       "      <td>PPGSPIRPTASDYELSHRASRSWSTFGSTKEPSLPGHNTFKGFRKS...</td>\n",
       "    </tr>\n",
       "    <tr>\n",
       "      <th>Q6B4T5</th>\n",
       "      <td>Animal</td>\n",
       "      <td>0</td>\n",
       "      <td>0</td>\n",
       "      <td>101</td>\n",
       "      <td>0</td>\n",
       "      <td>RFLVGAVLVVVLVACATAFESDAETFKSLVVEERKCHGDGSKGCAT...</td>\n",
       "    </tr>\n",
       "    <tr>\n",
       "      <th>Q6B4T4</th>\n",
       "      <td>Animal</td>\n",
       "      <td>0</td>\n",
       "      <td>0</td>\n",
       "      <td>101</td>\n",
       "      <td>0</td>\n",
       "      <td>EGLLVLVLIAFVVAEFESDAEKWEALITQERACKGEGVKGCYYEAD...</td>\n",
       "    </tr>\n",
       "    <tr>\n",
       "      <th>...</th>\n",
       "      <td>...</td>\n",
       "      <td>...</td>\n",
       "      <td>...</td>\n",
       "      <td>...</td>\n",
       "      <td>...</td>\n",
       "      <td>...</td>\n",
       "    </tr>\n",
       "    <tr>\n",
       "      <th>Q95NK7</th>\n",
       "      <td>Animal</td>\n",
       "      <td>0</td>\n",
       "      <td>0</td>\n",
       "      <td>55</td>\n",
       "      <td>0</td>\n",
       "      <td>MKIFFAILLILAVCSMAIWTVNGTPFAIKCATDADCSRKCPGNPPC...</td>\n",
       "    </tr>\n",
       "    <tr>\n",
       "      <th>P16548</th>\n",
       "      <td>Animal</td>\n",
       "      <td>0</td>\n",
       "      <td>0</td>\n",
       "      <td>53</td>\n",
       "      <td>0</td>\n",
       "      <td>MASVKLFFIAILVVALSLNTSAAVLNPSSTAKPRFETKDRKLSAGA...</td>\n",
       "    </tr>\n",
       "    <tr>\n",
       "      <th>P15516</th>\n",
       "      <td>Animal</td>\n",
       "      <td>0</td>\n",
       "      <td>0</td>\n",
       "      <td>52</td>\n",
       "      <td>0</td>\n",
       "      <td>MKFFVFALILALMLSMTGADSHAKRHHGYKRKFHEKHHSHRGYRSN...</td>\n",
       "    </tr>\n",
       "    <tr>\n",
       "      <th>A0A1W6EVN2</th>\n",
       "      <td>Animal</td>\n",
       "      <td>0</td>\n",
       "      <td>0</td>\n",
       "      <td>51</td>\n",
       "      <td>0</td>\n",
       "      <td>MKAIMVLFYVMTLTIIGSFSMVSGSPGQNDYVNPKLQFACDLLQKA...</td>\n",
       "    </tr>\n",
       "    <tr>\n",
       "      <th>A0A1W6EVM7</th>\n",
       "      <td>Animal</td>\n",
       "      <td>0</td>\n",
       "      <td>0</td>\n",
       "      <td>51</td>\n",
       "      <td>0</td>\n",
       "      <td>MKAIMVLFYVMMLTIIASVSMVNGSPGKDDYVNPKEQLGYDILEKL...</td>\n",
       "    </tr>\n",
       "  </tbody>\n",
       "</table>\n",
       "<p>3618 rows × 6 columns</p>\n",
       "</div>"
      ],
      "text/plain": [
       "           kingdom  class  right-pos  left-pos  experimental  \\\n",
       "ID                                                             \n",
       "P15693      Animal      1         30        71             0   \n",
       "P83558      Animal      0          0       101             0   \n",
       "D4ASH1       Fungi      0          0       101             0   \n",
       "Q6B4T5      Animal      0          0       101             0   \n",
       "Q6B4T4      Animal      0          0       101             0   \n",
       "...            ...    ...        ...       ...           ...   \n",
       "Q95NK7      Animal      0          0        55             0   \n",
       "P16548      Animal      0          0        53             0   \n",
       "P15516      Animal      0          0        52             0   \n",
       "A0A1W6EVN2  Animal      0          0        51             0   \n",
       "A0A1W6EVM7  Animal      0          0        51             0   \n",
       "\n",
       "                                                     sequence  \n",
       "ID                                                             \n",
       "P15693      QQAAVPLSSETHGGEDVAIFARGPQAHLVHGVQEQNYIAHVMAFAG...  \n",
       "P83558      EGEVKNEFEERLKDEFKDPSRSEVAEVILLRELEVLEETLFGKEMT...  \n",
       "D4ASH1      PPGSPIRPTASDYELSHRASRSWSTFGSTKEPSLPGHNTFKGFRKS...  \n",
       "Q6B4T5      RFLVGAVLVVVLVACATAFESDAETFKSLVVEERKCHGDGSKGCAT...  \n",
       "Q6B4T4      EGLLVLVLIAFVVAEFESDAEKWEALITQERACKGEGVKGCYYEAD...  \n",
       "...                                                       ...  \n",
       "Q95NK7      MKIFFAILLILAVCSMAIWTVNGTPFAIKCATDADCSRKCPGNPPC...  \n",
       "P16548      MASVKLFFIAILVVALSLNTSAAVLNPSSTAKPRFETKDRKLSAGA...  \n",
       "P15516      MKFFVFALILALMLSMTGADSHAKRHHGYKRKFHEKHHSHRGYRSN...  \n",
       "A0A1W6EVN2  MKAIMVLFYVMTLTIIGSFSMVSGSPGQNDYVNPKLQFACDLLQKA...  \n",
       "A0A1W6EVM7  MKAIMVLFYVMMLTIIASVSMVNGSPGKDDYVNPKEQLGYDILEKL...  \n",
       "\n",
       "[3618 rows x 6 columns]"
      ]
     },
     "execution_count": 2,
     "metadata": {},
     "output_type": "execute_result"
    }
   ],
   "source": [
    "# make a tab-delimited file from a fasta file for convenience\n",
    "!awk -F'[|\\n]' 'BEGIN{RS=\">\"}BEGIN{print\"ID\\tkingdom\\tclass\\tright-pos\\tleft-pos\\texperimental\\tsequence\"}NF{print $1\"\\t\"$2\"\\t\"$3\"\\t\"$4\"\\t\"$5\"\\t\"$6\"\\t\"$8}' benchmarking/data/protein/NetGPI/netgpi_dataset.fasta | sed 's/\\t[aA-zZ\\-]*=/\\t/g' > benchmarking/data/protein/NetGPI/netgpi.tsv\n",
    "df = pd.read_table('benchmarking/data/protein/NetGPI/netgpi.tsv', index_col=0)\n",
    "df"
   ]
  },
  {
   "cell_type": "markdown",
   "id": "b6b483bd-692f-449a-8ba6-b3f1c8409295",
   "metadata": {},
   "source": [
    "`stratified_k_fold` and `train_test_validation_split` accept the same parameters that are available on the command line. `labels` and `priority` are optional."
   ]
  },
  {
   "cell_type": "code",
   "execution_count": 4,
   "id": "2b96a0c8-d39d-4723-818e-b21dc5ad0d92",
   "metadata": {},
   "outputs": [
    {
     "name": "stdout",
     "output_type": "stream",
     "text": [
      "Computing pairwise sequence identities.\n"
     ]
    },
    {
     "data": {
      "application/vnd.jupyter.widget-view+json": {
       "model_id": "cebab1234e0a45d099454874709b07ca",
       "version_major": 2,
       "version_minor": 0
      },
      "text/plain": [
       "  0%|          | 0/13089924 [00:00<?, ?it/s]"
      ]
     },
     "metadata": {},
     "output_type": "display_data"
    },
    {
     "name": "stdout",
     "output_type": "stream",
     "text": [
      "Full graph nr. of edges: 21218\n",
      "723 [203 520]\n",
      "Initialization mode slow-nn\n",
      "2\n",
      "Currently have this many samples: 3618\n",
      "!  B1P0S1 Q59Y31 {'metric': 0.6910000000000001}  !\n",
      "Need to remove! Currently have this many samples: 3618\n",
      "After removal we have this many samples: 3607\n"
     ]
    }
   ],
   "source": [
    "fold_ids = stratified_k_fold(df['sequence'], labels=df['class'], priority=df['experimental'], alignment_mode='needle', threads = 8, threshold=0.3, partitions=5)"
   ]
  },
  {
   "cell_type": "markdown",
   "id": "606c42a6-14a6-421b-bfc7-5efa8baadfd5",
   "metadata": {},
   "source": [
    "The partitioning functions return a list of indices for each partition. In this case, we get 5 lists. As we used pandas series as inputs, we get the `ID` index values back. If we provide lists or arrays, indices are returned. Pandas series, numpy arrays, lists and ID:value dictionaries are accepted as inputs."
   ]
  },
  {
   "cell_type": "code",
   "execution_count": 5,
   "id": "caf2aca8-f151-4d37-aa08-97bec66f4b10",
   "metadata": {},
   "outputs": [
    {
     "data": {
      "text/plain": [
       "5"
      ]
     },
     "execution_count": 5,
     "metadata": {},
     "output_type": "execute_result"
    }
   ],
   "source": [
    "len(fold_ids)"
   ]
  },
  {
   "cell_type": "code",
   "execution_count": 6,
   "id": "c0be9a93-eb7a-4685-acad-01a0fb4f5629",
   "metadata": {},
   "outputs": [
    {
     "data": {
      "text/plain": [
       "['P15693',\n",
       " 'P83558',\n",
       " 'Q4QRF7',\n",
       " 'H2A0L1',\n",
       " 'Q9XZ63',\n",
       " 'A2QTU5',\n",
       " 'A1XIH3',\n",
       " 'L8FSM5',\n",
       " 'A1XIH6',\n",
       " 'A1XIH1']"
      ]
     },
     "execution_count": 6,
     "metadata": {},
     "output_type": "execute_result"
    }
   ],
   "source": [
    "fold_ids[0][:10]"
   ]
  },
  {
   "cell_type": "code",
   "execution_count": 3,
   "id": "bd2e5ca8-037e-4693-97fd-3e1274942f53",
   "metadata": {},
   "outputs": [
    {
     "name": "stdout",
     "output_type": "stream",
     "text": [
      "Computing pairwise sequence identities.\n"
     ]
    },
    {
     "data": {
      "application/vnd.jupyter.widget-view+json": {
       "model_id": "04e2566a367b4d109b29600f64d41eea",
       "version_major": 2,
       "version_minor": 0
      },
      "text/plain": [
       "  0%|          | 0/13089924 [00:00<?, ?it/s]"
      ]
     },
     "metadata": {},
     "output_type": "display_data"
    },
    {
     "name": "stdout",
     "output_type": "stream",
     "text": [
      "Full graph nr. of edges: 21218\n",
      "180 [ 50 130]\n",
      "Initialization mode slow-nn\n",
      "2\n",
      "Currently have this many samples: 3618\n",
      "!  seq_1496 seq_2911 {'metric': 0.6859999999999999}  !\n",
      "Need to remove! Currently have this many samples: 3618\n",
      "After removal we have this many samples: 3612\n"
     ]
    }
   ],
   "source": [
    "# let's use arrays this time.\n",
    "sequences = df['sequence'].to_numpy()\n",
    "labels = df['class'].to_numpy()\n",
    "priority = df['experimental'].to_numpy()\n",
    "train_idx, test_idx, valid_idx = train_test_validation_split(sequences, \n",
    "                                                             labels=labels, \n",
    "                                                             priority=priority, \n",
    "                                                             alignment_mode='needle', \n",
    "                                                             threads = 8,\n",
    "                                                             threshold = 0.3,\n",
    "                                                             test_size = 0.15,\n",
    "                                                             valid_size = 0.05\n",
    "                                                            )"
   ]
  },
  {
   "cell_type": "markdown",
   "id": "3f1edf21-dc8a-4669-ac9a-54b057a8415e",
   "metadata": {},
   "source": [
    "Use the generated indices to process your data as needed."
   ]
  },
  {
   "cell_type": "code",
   "execution_count": 6,
   "id": "14d4cb7f-ac29-40ec-b31b-a0bc45a89520",
   "metadata": {},
   "outputs": [],
   "source": [
    "train_sequences = sequences[train_idx]\n",
    "train_labels = labels[train_idx]\n",
    "\n",
    "test_sequences = sequences[test_idx]\n",
    "test_labels = labels[test_idx]\n",
    "\n",
    "valid_sequences = sequences[valid_idx]\n",
    "valid_labels = labels[valid_idx]"
   ]
  },
  {
   "cell_type": "code",
   "execution_count": 7,
   "id": "7fc2dbf2-e090-47fd-9bf4-4f5a87f9df1d",
   "metadata": {},
   "outputs": [
    {
     "name": "stdout",
     "output_type": "stream",
     "text": [
      "2953\n",
      "496\n",
      "163\n"
     ]
    }
   ],
   "source": [
    "print(len(train_sequences))\n",
    "print(len(test_sequences))\n",
    "print(len(valid_sequences))"
   ]
  },
  {
   "cell_type": "code",
   "execution_count": null,
   "id": "f1eebc89-305e-4fe7-b50d-55e8749dd637",
   "metadata": {},
   "outputs": [],
   "source": []
  }
 ],
 "metadata": {
  "kernelspec": {
   "display_name": "Python 3",
   "language": "python",
   "name": "python3"
  },
  "language_info": {
   "codemirror_mode": {
    "name": "ipython",
    "version": 3
   },
   "file_extension": ".py",
   "mimetype": "text/x-python",
   "name": "python",
   "nbconvert_exporter": "python",
   "pygments_lexer": "ipython3",
   "version": "3.6.9"
  }
 },
 "nbformat": 4,
 "nbformat_minor": 5
}
